{
  "cells": [
    {
      "cell_type": "markdown",
      "metadata": {
        "id": "view-in-github",
        "colab_type": "text"
      },
      "source": [
        "<a href=\"https://colab.research.google.com/github/ekotyoo/Racana/blob/Machine_Learning/Deep_Learning_Weekday_Under_100.ipynb\" target=\"_parent\"><img src=\"https://colab.research.google.com/assets/colab-badge.svg\" alt=\"Open In Colab\"/></a>"
      ]
    },
    {
      "cell_type": "code",
      "execution_count": 1,
      "metadata": {
        "id": "bH9YiybYKQGt"
      },
      "outputs": [],
      "source": [
        "import numpy as np\n",
        "import pandas as pd \n",
        "import matplotlib.pyplot as plt\n",
        "import tensorflow as tf\n",
        "\n",
        "from tensorflow import keras\n",
        "from collections import deque\n",
        "from keras.layers import Input, Embedding, Reshape, Dot, Concatenate, Dense, Dropout\n",
        "from keras.models import Model\n",
        "from pydrive.auth import GoogleAuth\n",
        "from pydrive.drive import GoogleDrive\n",
        "from google.colab import auth\n",
        "from oauth2client.client import GoogleCredentials\n",
        "from sklearn.metrics import mean_squared_error\n",
        "\n"
      ]
    },
    {
      "cell_type": "code",
      "execution_count": 2,
      "metadata": {
        "id": "_S_H03Utmp6P"
      },
      "outputs": [],
      "source": [
        "from pydrive.auth import GoogleAuth\n",
        "from pydrive.drive import GoogleDrive\n",
        "from google.colab import auth\n",
        "from oauth2client.client import GoogleCredentials\n",
        "\n",
        "\n",
        "# Authenticate and create the PyDrive client.\n",
        "auth.authenticate_user()\n",
        "gauth = GoogleAuth()\n",
        "gauth.credentials = GoogleCredentials.get_application_default()\n",
        "drive = GoogleDrive(gauth)"
      ]
    },
    {
      "cell_type": "markdown",
      "source": [
        "#Preparing Data Set\n",
        "memasukan data tempat wisata"
      ],
      "metadata": {
        "id": "6uHhOP7mf9ep"
      }
    },
    {
      "cell_type": "code",
      "execution_count": 3,
      "metadata": {
        "colab": {
          "base_uri": "https://localhost:8080/"
        },
        "id": "dqga60XJk6Rb",
        "outputId": "e6c68d86-8e6e-4471-f345-523f4331e2b0"
      },
      "outputs": [
        {
          "output_type": "stream",
          "name": "stdout",
          "text": [
            "    Place_Id                     Place_Name  \\\n",
            "0          1              Agrowisata Satria   \n",
            "1          2                     Agung Bali   \n",
            "2          3  Wisata Air Panas Toya Bungkah   \n",
            "3          4         Air Terjun Aling-Aling   \n",
            "4          5          Air Terjun Tegenungan   \n",
            "..       ...                            ...   \n",
            "70        71         Teras Sawah Tegalalang   \n",
            "71        72                   Tirta Gangga   \n",
            "72        73                  Waterbom Bali   \n",
            "73        74       Alas Harum Agro Tourism    \n",
            "74        75     Wisata Agro Teba Sari Bali   \n",
            "\n",
            "                                          Description  Weekend Holiday Price  \\\n",
            "0   Agrowisata Satria menawarkan 'rasa' Bali pada ...                  50000   \n",
            "1   Dapatkan berbagai produk oleh-oleh khas Bali b...                      0   \n",
            "2   Pemandian air panas di dekat gunung Batur (Pem...                  70000   \n",
            "3   Keberadaan air terjun ini semakin mempercantik...                  20000   \n",
            "4   Bosan dengan wisata alam pantai dan ingin meni...                  20000   \n",
            "..                                                ...                    ...   \n",
            "70  Uniknya Tegallalang Rice Terrace di Bali ini, ...                  10000   \n",
            "71  Ada tiga hal utama yang ada di taman Tirta Gan...                  25000   \n",
            "72  Waterbom merupakan sebuah oase di jantung kawa...                 289000   \n",
            "73  Alas Harum Bali merupakan destinasi wisata yan...                  10000   \n",
            "74  Dalam kawasan Wisata Agro Teba Sari Bali, peng...                      0   \n",
            "\n",
            "    Weekday Price    Category        City  Rating  \\\n",
            "0           50000  Agrowisata     Gianyar     3.0   \n",
            "1               0     Belanja      Badung     4.0   \n",
            "2           70000        Alam      Bangli     4.0   \n",
            "3           20000        Alam    Buleleng     4.5   \n",
            "4           20000        Alam     Gianyar     4.0   \n",
            "..            ...         ...         ...     ...   \n",
            "70          10000  Agrowisata     Gianyar     4.0   \n",
            "71          25000    Religius  Karangasem     4.5   \n",
            "72         289000    Rekreasi      Badung     4.5   \n",
            "73          10000  Agrowisata     Gianyar     4.0   \n",
            "74              0  Agrowisata     Gianyar     4.0   \n",
            "\n",
            "                                               Alamat  \\\n",
            "0    Manukaya, Kec. Tampaksiring, Kabupaten Gianya...   \n",
            "1           Jln. Dewi Sri No.18XX, Kuta, Badung, Bali   \n",
            "2   Batur Tengah, Kec. Kintamani, Kabupaten Bangli...   \n",
            "3   Jl. Raya Desa Sambangan, Banjar, Sambangan, Ke...   \n",
            "4   Jl. Ir. Sutami, Kemenuh, Kec. Sukawati, Kabupa...   \n",
            "..                                                ...   \n",
            "70  Jl. Raya Tegallalang, Tegallalang, Kec. Tegall...   \n",
            "71  Jalan Raya Abang Desa Adat, Ababi, Kec. Abang,...   \n",
            "72  Jl. Kartika Plaza, Tuban, Kec. Kuta, Kabupaten...   \n",
            "73  Jl. Raya Tegallalang, Tegallalang, Kec. Tegall...   \n",
            "74  Jl. Tegal Utu, Lodtunduh, Kecamatan Ubud, Kabu...   \n",
            "\n",
            "                                Coordinate       Lat        Long Gambar  \n",
            "0   -8.402228546131536, 115.32296693687739 -8.402229  115.322967      V  \n",
            "1     -8.700234336021559, 115.176534407375 -8.700234  115.176534      V  \n",
            "2   -8.251298580809106, 115.39981444195475 -8.251299  115.399814      V  \n",
            "3   -8.173073590748519, 115.10513024047802 -8.173074  115.105130      V  \n",
            "4   -8.575191460385602, 115.28870189592831 -8.575191  115.288702      V  \n",
            "..                                     ...       ...         ...    ...  \n",
            "70  -8.433891714602193, 115.27918179571854 -8.433892  115.279182      V  \n",
            "71  -8.412071345387545, 115.58728116872855 -8.412071  115.587281      V  \n",
            "72   -8.72828817001415, 115.16934211106027 -8.728288  115.169342      V  \n",
            "73   -8.43969896624251, 115.28060749756382 -8.439699  115.280608      V  \n",
            "74  -8.547239248722546, 115.25742069756434 -8.547239  115.257421      V  \n",
            "\n",
            "[75 rows x 13 columns]\n"
          ]
        }
      ],
      "source": [
        "link = 'https://drive.google.com/file/d/1Fjjh_nSMWssHE4Ncv7aURngnN5wsfJ_y/view'\n",
        "\n",
        "\n",
        "# to get the id part of the file\n",
        "id = link.split(\"/\")[-2]\n",
        "\n",
        "downloaded = drive.CreateFile({'id':id})\n",
        "downloaded.GetContentFile('tourism_with_id.csv')\n",
        "\n",
        "place = pd.read_csv('tourism_with_id.csv')\n",
        "print(place)\n"
      ]
    },
    {
      "cell_type": "code",
      "execution_count": 4,
      "metadata": {
        "colab": {
          "base_uri": "https://localhost:8080/",
          "height": 670
        },
        "id": "fIv-9pk6M6t4",
        "outputId": "858c763d-295d-413d-e86f-00e4251d331a"
      },
      "outputs": [
        {
          "output_type": "execute_result",
          "data": {
            "text/plain": [
              "   Place_Id                     Place_Name  \\\n",
              "0         1              Agrowisata Satria   \n",
              "1         2                     Agung Bali   \n",
              "2         3  Wisata Air Panas Toya Bungkah   \n",
              "3         4         Air Terjun Aling-Aling   \n",
              "4         5          Air Terjun Tegenungan   \n",
              "\n",
              "                                         Description  Weekend Holiday Price  \\\n",
              "0  Agrowisata Satria menawarkan 'rasa' Bali pada ...                  50000   \n",
              "1  Dapatkan berbagai produk oleh-oleh khas Bali b...                      0   \n",
              "2  Pemandian air panas di dekat gunung Batur (Pem...                  70000   \n",
              "3  Keberadaan air terjun ini semakin mempercantik...                  20000   \n",
              "4  Bosan dengan wisata alam pantai dan ingin meni...                  20000   \n",
              "\n",
              "   Weekday Price    Category      City  Rating  \\\n",
              "0          50000  Agrowisata   Gianyar     3.0   \n",
              "1              0     Belanja    Badung     4.0   \n",
              "2          70000        Alam    Bangli     4.0   \n",
              "3          20000        Alam  Buleleng     4.5   \n",
              "4          20000        Alam   Gianyar     4.0   \n",
              "\n",
              "                                              Alamat  \\\n",
              "0   Manukaya, Kec. Tampaksiring, Kabupaten Gianya...   \n",
              "1          Jln. Dewi Sri No.18XX, Kuta, Badung, Bali   \n",
              "2  Batur Tengah, Kec. Kintamani, Kabupaten Bangli...   \n",
              "3  Jl. Raya Desa Sambangan, Banjar, Sambangan, Ke...   \n",
              "4  Jl. Ir. Sutami, Kemenuh, Kec. Sukawati, Kabupa...   \n",
              "\n",
              "                               Coordinate       Lat        Long Gambar  \n",
              "0  -8.402228546131536, 115.32296693687739 -8.402229  115.322967      V  \n",
              "1    -8.700234336021559, 115.176534407375 -8.700234  115.176534      V  \n",
              "2  -8.251298580809106, 115.39981444195475 -8.251299  115.399814      V  \n",
              "3  -8.173073590748519, 115.10513024047802 -8.173074  115.105130      V  \n",
              "4  -8.575191460385602, 115.28870189592831 -8.575191  115.288702      V  "
            ],
            "text/html": [
              "\n",
              "  <div id=\"df-573b59cf-59df-475a-bea1-7e0527ac6562\">\n",
              "    <div class=\"colab-df-container\">\n",
              "      <div>\n",
              "<style scoped>\n",
              "    .dataframe tbody tr th:only-of-type {\n",
              "        vertical-align: middle;\n",
              "    }\n",
              "\n",
              "    .dataframe tbody tr th {\n",
              "        vertical-align: top;\n",
              "    }\n",
              "\n",
              "    .dataframe thead th {\n",
              "        text-align: right;\n",
              "    }\n",
              "</style>\n",
              "<table border=\"1\" class=\"dataframe\">\n",
              "  <thead>\n",
              "    <tr style=\"text-align: right;\">\n",
              "      <th></th>\n",
              "      <th>Place_Id</th>\n",
              "      <th>Place_Name</th>\n",
              "      <th>Description</th>\n",
              "      <th>Weekend Holiday Price</th>\n",
              "      <th>Weekday Price</th>\n",
              "      <th>Category</th>\n",
              "      <th>City</th>\n",
              "      <th>Rating</th>\n",
              "      <th>Alamat</th>\n",
              "      <th>Coordinate</th>\n",
              "      <th>Lat</th>\n",
              "      <th>Long</th>\n",
              "      <th>Gambar</th>\n",
              "    </tr>\n",
              "  </thead>\n",
              "  <tbody>\n",
              "    <tr>\n",
              "      <th>0</th>\n",
              "      <td>1</td>\n",
              "      <td>Agrowisata Satria</td>\n",
              "      <td>Agrowisata Satria menawarkan 'rasa' Bali pada ...</td>\n",
              "      <td>50000</td>\n",
              "      <td>50000</td>\n",
              "      <td>Agrowisata</td>\n",
              "      <td>Gianyar</td>\n",
              "      <td>3.0</td>\n",
              "      <td>Manukaya, Kec. Tampaksiring, Kabupaten Gianya...</td>\n",
              "      <td>-8.402228546131536, 115.32296693687739</td>\n",
              "      <td>-8.402229</td>\n",
              "      <td>115.322967</td>\n",
              "      <td>V</td>\n",
              "    </tr>\n",
              "    <tr>\n",
              "      <th>1</th>\n",
              "      <td>2</td>\n",
              "      <td>Agung Bali</td>\n",
              "      <td>Dapatkan berbagai produk oleh-oleh khas Bali b...</td>\n",
              "      <td>0</td>\n",
              "      <td>0</td>\n",
              "      <td>Belanja</td>\n",
              "      <td>Badung</td>\n",
              "      <td>4.0</td>\n",
              "      <td>Jln. Dewi Sri No.18XX, Kuta, Badung, Bali</td>\n",
              "      <td>-8.700234336021559, 115.176534407375</td>\n",
              "      <td>-8.700234</td>\n",
              "      <td>115.176534</td>\n",
              "      <td>V</td>\n",
              "    </tr>\n",
              "    <tr>\n",
              "      <th>2</th>\n",
              "      <td>3</td>\n",
              "      <td>Wisata Air Panas Toya Bungkah</td>\n",
              "      <td>Pemandian air panas di dekat gunung Batur (Pem...</td>\n",
              "      <td>70000</td>\n",
              "      <td>70000</td>\n",
              "      <td>Alam</td>\n",
              "      <td>Bangli</td>\n",
              "      <td>4.0</td>\n",
              "      <td>Batur Tengah, Kec. Kintamani, Kabupaten Bangli...</td>\n",
              "      <td>-8.251298580809106, 115.39981444195475</td>\n",
              "      <td>-8.251299</td>\n",
              "      <td>115.399814</td>\n",
              "      <td>V</td>\n",
              "    </tr>\n",
              "    <tr>\n",
              "      <th>3</th>\n",
              "      <td>4</td>\n",
              "      <td>Air Terjun Aling-Aling</td>\n",
              "      <td>Keberadaan air terjun ini semakin mempercantik...</td>\n",
              "      <td>20000</td>\n",
              "      <td>20000</td>\n",
              "      <td>Alam</td>\n",
              "      <td>Buleleng</td>\n",
              "      <td>4.5</td>\n",
              "      <td>Jl. Raya Desa Sambangan, Banjar, Sambangan, Ke...</td>\n",
              "      <td>-8.173073590748519, 115.10513024047802</td>\n",
              "      <td>-8.173074</td>\n",
              "      <td>115.105130</td>\n",
              "      <td>V</td>\n",
              "    </tr>\n",
              "    <tr>\n",
              "      <th>4</th>\n",
              "      <td>5</td>\n",
              "      <td>Air Terjun Tegenungan</td>\n",
              "      <td>Bosan dengan wisata alam pantai dan ingin meni...</td>\n",
              "      <td>20000</td>\n",
              "      <td>20000</td>\n",
              "      <td>Alam</td>\n",
              "      <td>Gianyar</td>\n",
              "      <td>4.0</td>\n",
              "      <td>Jl. Ir. Sutami, Kemenuh, Kec. Sukawati, Kabupa...</td>\n",
              "      <td>-8.575191460385602, 115.28870189592831</td>\n",
              "      <td>-8.575191</td>\n",
              "      <td>115.288702</td>\n",
              "      <td>V</td>\n",
              "    </tr>\n",
              "  </tbody>\n",
              "</table>\n",
              "</div>\n",
              "      <button class=\"colab-df-convert\" onclick=\"convertToInteractive('df-573b59cf-59df-475a-bea1-7e0527ac6562')\"\n",
              "              title=\"Convert this dataframe to an interactive table.\"\n",
              "              style=\"display:none;\">\n",
              "        \n",
              "  <svg xmlns=\"http://www.w3.org/2000/svg\" height=\"24px\"viewBox=\"0 0 24 24\"\n",
              "       width=\"24px\">\n",
              "    <path d=\"M0 0h24v24H0V0z\" fill=\"none\"/>\n",
              "    <path d=\"M18.56 5.44l.94 2.06.94-2.06 2.06-.94-2.06-.94-.94-2.06-.94 2.06-2.06.94zm-11 1L8.5 8.5l.94-2.06 2.06-.94-2.06-.94L8.5 2.5l-.94 2.06-2.06.94zm10 10l.94 2.06.94-2.06 2.06-.94-2.06-.94-.94-2.06-.94 2.06-2.06.94z\"/><path d=\"M17.41 7.96l-1.37-1.37c-.4-.4-.92-.59-1.43-.59-.52 0-1.04.2-1.43.59L10.3 9.45l-7.72 7.72c-.78.78-.78 2.05 0 2.83L4 21.41c.39.39.9.59 1.41.59.51 0 1.02-.2 1.41-.59l7.78-7.78 2.81-2.81c.8-.78.8-2.07 0-2.86zM5.41 20L4 18.59l7.72-7.72 1.47 1.35L5.41 20z\"/>\n",
              "  </svg>\n",
              "      </button>\n",
              "      \n",
              "  <style>\n",
              "    .colab-df-container {\n",
              "      display:flex;\n",
              "      flex-wrap:wrap;\n",
              "      gap: 12px;\n",
              "    }\n",
              "\n",
              "    .colab-df-convert {\n",
              "      background-color: #E8F0FE;\n",
              "      border: none;\n",
              "      border-radius: 50%;\n",
              "      cursor: pointer;\n",
              "      display: none;\n",
              "      fill: #1967D2;\n",
              "      height: 32px;\n",
              "      padding: 0 0 0 0;\n",
              "      width: 32px;\n",
              "    }\n",
              "\n",
              "    .colab-df-convert:hover {\n",
              "      background-color: #E2EBFA;\n",
              "      box-shadow: 0px 1px 2px rgba(60, 64, 67, 0.3), 0px 1px 3px 1px rgba(60, 64, 67, 0.15);\n",
              "      fill: #174EA6;\n",
              "    }\n",
              "\n",
              "    [theme=dark] .colab-df-convert {\n",
              "      background-color: #3B4455;\n",
              "      fill: #D2E3FC;\n",
              "    }\n",
              "\n",
              "    [theme=dark] .colab-df-convert:hover {\n",
              "      background-color: #434B5C;\n",
              "      box-shadow: 0px 1px 3px 1px rgba(0, 0, 0, 0.15);\n",
              "      filter: drop-shadow(0px 1px 2px rgba(0, 0, 0, 0.3));\n",
              "      fill: #FFFFFF;\n",
              "    }\n",
              "  </style>\n",
              "\n",
              "      <script>\n",
              "        const buttonEl =\n",
              "          document.querySelector('#df-573b59cf-59df-475a-bea1-7e0527ac6562 button.colab-df-convert');\n",
              "        buttonEl.style.display =\n",
              "          google.colab.kernel.accessAllowed ? 'block' : 'none';\n",
              "\n",
              "        async function convertToInteractive(key) {\n",
              "          const element = document.querySelector('#df-573b59cf-59df-475a-bea1-7e0527ac6562');\n",
              "          const dataTable =\n",
              "            await google.colab.kernel.invokeFunction('convertToInteractive',\n",
              "                                                     [key], {});\n",
              "          if (!dataTable) return;\n",
              "\n",
              "          const docLinkHtml = 'Like what you see? Visit the ' +\n",
              "            '<a target=\"_blank\" href=https://colab.research.google.com/notebooks/data_table.ipynb>data table notebook</a>'\n",
              "            + ' to learn more about interactive tables.';\n",
              "          element.innerHTML = '';\n",
              "          dataTable['output_type'] = 'display_data';\n",
              "          await google.colab.output.renderOutput(dataTable, element);\n",
              "          const docLink = document.createElement('div');\n",
              "          docLink.innerHTML = docLinkHtml;\n",
              "          element.appendChild(docLink);\n",
              "        }\n",
              "      </script>\n",
              "    </div>\n",
              "  </div>\n",
              "  "
            ]
          },
          "metadata": {},
          "execution_count": 4
        }
      ],
      "source": [
        "# Melihat gambaran data place\n",
        "\n",
        "place.head()"
      ]
    },
    {
      "cell_type": "code",
      "execution_count": 5,
      "metadata": {
        "colab": {
          "base_uri": "https://localhost:8080/"
        },
        "id": "mLZhoESkQ9oe",
        "outputId": "f3d54271-09ec-4d20-93e4-68631add41ca"
      },
      "outputs": [
        {
          "output_type": "stream",
          "name": "stdout",
          "text": [
            "<class 'pandas.core.frame.DataFrame'>\n",
            "RangeIndex: 75 entries, 0 to 74\n",
            "Data columns (total 13 columns):\n",
            " #   Column                 Non-Null Count  Dtype  \n",
            "---  ------                 --------------  -----  \n",
            " 0   Place_Id               75 non-null     int64  \n",
            " 1   Place_Name             75 non-null     object \n",
            " 2   Description            75 non-null     object \n",
            " 3   Weekend Holiday Price  75 non-null     int64  \n",
            " 4   Weekday Price          75 non-null     int64  \n",
            " 5   Category               75 non-null     object \n",
            " 6   City                   75 non-null     object \n",
            " 7   Rating                 75 non-null     float64\n",
            " 8   Alamat                 75 non-null     object \n",
            " 9   Coordinate             75 non-null     object \n",
            " 10  Lat                    75 non-null     float64\n",
            " 11  Long                   75 non-null     float64\n",
            " 12  Gambar                 75 non-null     object \n",
            "dtypes: float64(3), int64(3), object(7)\n",
            "memory usage: 7.7+ KB\n"
          ]
        }
      ],
      "source": [
        "place.info()"
      ]
    },
    {
      "cell_type": "markdown",
      "metadata": {
        "id": "wsVXqQoxq9Xq"
      },
      "source": [
        "Memasukkan data rating"
      ]
    },
    {
      "cell_type": "code",
      "execution_count": 6,
      "metadata": {
        "colab": {
          "base_uri": "https://localhost:8080/",
          "height": 206
        },
        "id": "3R-KWY8zp9Iz",
        "outputId": "7a7dd498-d2b4-4de3-98c3-5517744e2ab8"
      },
      "outputs": [
        {
          "output_type": "execute_result",
          "data": {
            "text/plain": [
              "   User_Id  Place_Id            Nama Tempat  Place_Rating\n",
              "0        1         2   Agung Bali Oleh-Oleh             3\n",
              "1        1         7       Aloha Ubud Swing             5\n",
              "2        1         8         Bali Bird Park             5\n",
              "3        1        12      Big Garden Corner             2\n",
              "4        1        13  Wanagiri Hidden Hills             5"
            ],
            "text/html": [
              "\n",
              "  <div id=\"df-cb483e99-67b9-4296-b2a9-844856791599\">\n",
              "    <div class=\"colab-df-container\">\n",
              "      <div>\n",
              "<style scoped>\n",
              "    .dataframe tbody tr th:only-of-type {\n",
              "        vertical-align: middle;\n",
              "    }\n",
              "\n",
              "    .dataframe tbody tr th {\n",
              "        vertical-align: top;\n",
              "    }\n",
              "\n",
              "    .dataframe thead th {\n",
              "        text-align: right;\n",
              "    }\n",
              "</style>\n",
              "<table border=\"1\" class=\"dataframe\">\n",
              "  <thead>\n",
              "    <tr style=\"text-align: right;\">\n",
              "      <th></th>\n",
              "      <th>User_Id</th>\n",
              "      <th>Place_Id</th>\n",
              "      <th>Nama Tempat</th>\n",
              "      <th>Place_Rating</th>\n",
              "    </tr>\n",
              "  </thead>\n",
              "  <tbody>\n",
              "    <tr>\n",
              "      <th>0</th>\n",
              "      <td>1</td>\n",
              "      <td>2</td>\n",
              "      <td>Agung Bali Oleh-Oleh</td>\n",
              "      <td>3</td>\n",
              "    </tr>\n",
              "    <tr>\n",
              "      <th>1</th>\n",
              "      <td>1</td>\n",
              "      <td>7</td>\n",
              "      <td>Aloha Ubud Swing</td>\n",
              "      <td>5</td>\n",
              "    </tr>\n",
              "    <tr>\n",
              "      <th>2</th>\n",
              "      <td>1</td>\n",
              "      <td>8</td>\n",
              "      <td>Bali Bird Park</td>\n",
              "      <td>5</td>\n",
              "    </tr>\n",
              "    <tr>\n",
              "      <th>3</th>\n",
              "      <td>1</td>\n",
              "      <td>12</td>\n",
              "      <td>Big Garden Corner</td>\n",
              "      <td>2</td>\n",
              "    </tr>\n",
              "    <tr>\n",
              "      <th>4</th>\n",
              "      <td>1</td>\n",
              "      <td>13</td>\n",
              "      <td>Wanagiri Hidden Hills</td>\n",
              "      <td>5</td>\n",
              "    </tr>\n",
              "  </tbody>\n",
              "</table>\n",
              "</div>\n",
              "      <button class=\"colab-df-convert\" onclick=\"convertToInteractive('df-cb483e99-67b9-4296-b2a9-844856791599')\"\n",
              "              title=\"Convert this dataframe to an interactive table.\"\n",
              "              style=\"display:none;\">\n",
              "        \n",
              "  <svg xmlns=\"http://www.w3.org/2000/svg\" height=\"24px\"viewBox=\"0 0 24 24\"\n",
              "       width=\"24px\">\n",
              "    <path d=\"M0 0h24v24H0V0z\" fill=\"none\"/>\n",
              "    <path d=\"M18.56 5.44l.94 2.06.94-2.06 2.06-.94-2.06-.94-.94-2.06-.94 2.06-2.06.94zm-11 1L8.5 8.5l.94-2.06 2.06-.94-2.06-.94L8.5 2.5l-.94 2.06-2.06.94zm10 10l.94 2.06.94-2.06 2.06-.94-2.06-.94-.94-2.06-.94 2.06-2.06.94z\"/><path d=\"M17.41 7.96l-1.37-1.37c-.4-.4-.92-.59-1.43-.59-.52 0-1.04.2-1.43.59L10.3 9.45l-7.72 7.72c-.78.78-.78 2.05 0 2.83L4 21.41c.39.39.9.59 1.41.59.51 0 1.02-.2 1.41-.59l7.78-7.78 2.81-2.81c.8-.78.8-2.07 0-2.86zM5.41 20L4 18.59l7.72-7.72 1.47 1.35L5.41 20z\"/>\n",
              "  </svg>\n",
              "      </button>\n",
              "      \n",
              "  <style>\n",
              "    .colab-df-container {\n",
              "      display:flex;\n",
              "      flex-wrap:wrap;\n",
              "      gap: 12px;\n",
              "    }\n",
              "\n",
              "    .colab-df-convert {\n",
              "      background-color: #E8F0FE;\n",
              "      border: none;\n",
              "      border-radius: 50%;\n",
              "      cursor: pointer;\n",
              "      display: none;\n",
              "      fill: #1967D2;\n",
              "      height: 32px;\n",
              "      padding: 0 0 0 0;\n",
              "      width: 32px;\n",
              "    }\n",
              "\n",
              "    .colab-df-convert:hover {\n",
              "      background-color: #E2EBFA;\n",
              "      box-shadow: 0px 1px 2px rgba(60, 64, 67, 0.3), 0px 1px 3px 1px rgba(60, 64, 67, 0.15);\n",
              "      fill: #174EA6;\n",
              "    }\n",
              "\n",
              "    [theme=dark] .colab-df-convert {\n",
              "      background-color: #3B4455;\n",
              "      fill: #D2E3FC;\n",
              "    }\n",
              "\n",
              "    [theme=dark] .colab-df-convert:hover {\n",
              "      background-color: #434B5C;\n",
              "      box-shadow: 0px 1px 3px 1px rgba(0, 0, 0, 0.15);\n",
              "      filter: drop-shadow(0px 1px 2px rgba(0, 0, 0, 0.3));\n",
              "      fill: #FFFFFF;\n",
              "    }\n",
              "  </style>\n",
              "\n",
              "      <script>\n",
              "        const buttonEl =\n",
              "          document.querySelector('#df-cb483e99-67b9-4296-b2a9-844856791599 button.colab-df-convert');\n",
              "        buttonEl.style.display =\n",
              "          google.colab.kernel.accessAllowed ? 'block' : 'none';\n",
              "\n",
              "        async function convertToInteractive(key) {\n",
              "          const element = document.querySelector('#df-cb483e99-67b9-4296-b2a9-844856791599');\n",
              "          const dataTable =\n",
              "            await google.colab.kernel.invokeFunction('convertToInteractive',\n",
              "                                                     [key], {});\n",
              "          if (!dataTable) return;\n",
              "\n",
              "          const docLinkHtml = 'Like what you see? Visit the ' +\n",
              "            '<a target=\"_blank\" href=https://colab.research.google.com/notebooks/data_table.ipynb>data table notebook</a>'\n",
              "            + ' to learn more about interactive tables.';\n",
              "          element.innerHTML = '';\n",
              "          dataTable['output_type'] = 'display_data';\n",
              "          await google.colab.output.renderOutput(dataTable, element);\n",
              "          const docLink = document.createElement('div');\n",
              "          docLink.innerHTML = docLinkHtml;\n",
              "          element.appendChild(docLink);\n",
              "        }\n",
              "      </script>\n",
              "    </div>\n",
              "  </div>\n",
              "  "
            ]
          },
          "metadata": {},
          "execution_count": 6
        }
      ],
      "source": [
        "rate =  'https://drive.google.com/file/d/1O8nHRBufcBe26vB8GHicaTTqAlIcUv8E/view'\n",
        "\n",
        "# to get the id part of the file\n",
        "id = rate.split(\"/\")[-2]\n",
        "\n",
        "downloaded = drive.CreateFile({'id':id})\n",
        "downloaded.GetContentFile('tourism_rating.csv')\n",
        "\n",
        "rating = pd.read_csv('tourism_rating.csv')\n",
        "rating.head()"
      ]
    },
    {
      "cell_type": "code",
      "execution_count": 7,
      "metadata": {
        "colab": {
          "base_uri": "https://localhost:8080/"
        },
        "id": "ZHejOrP7RMYJ",
        "outputId": "7fa659f6-b23b-4904-a75d-cd4858287244"
      },
      "outputs": [
        {
          "output_type": "stream",
          "name": "stdout",
          "text": [
            "<class 'pandas.core.frame.DataFrame'>\n",
            "RangeIndex: 3000 entries, 0 to 2999\n",
            "Data columns (total 4 columns):\n",
            " #   Column        Non-Null Count  Dtype \n",
            "---  ------        --------------  ----- \n",
            " 0   User_Id       3000 non-null   int64 \n",
            " 1   Place_Id      3000 non-null   int64 \n",
            " 2   Nama Tempat   3000 non-null   object\n",
            " 3   Place_Rating  3000 non-null   int64 \n",
            "dtypes: int64(3), object(1)\n",
            "memory usage: 93.9+ KB\n"
          ]
        }
      ],
      "source": [
        "rating.info()"
      ]
    },
    {
      "cell_type": "markdown",
      "source": [
        "Filtering data rating"
      ],
      "metadata": {
        "id": "D_UfiWLNgZOR"
      }
    },
    {
      "cell_type": "code",
      "execution_count": 8,
      "metadata": {
        "colab": {
          "base_uri": "https://localhost:8080/"
        },
        "id": "6ntwu5LPA_MV",
        "outputId": "ae37ca26-fd4d-46c9-90f4-edf22dde8e59"
      },
      "outputs": [
        {
          "output_type": "stream",
          "name": "stdout",
          "text": [
            "Shape User-Ratings unfiltered:\t(3000, 4)\n",
            "Shape User-Ratings filtered:\t(2250, 4)\n"
          ]
        }
      ],
      "source": [
        "min_place_rating = 10\n",
        "filter_place = (rating[\"Place_Id\"].value_counts()>min_place_rating)\n",
        "filter_place = filter_place[filter_place].index.tolist()\n",
        "\n",
        "min_user_rating = 10\n",
        "filter_user = (rating[\"User_Id\"].value_counts()>min_user_rating)\n",
        "filter_user = filter_user[filter_user].index.tolist()\n",
        "\n",
        "data_filtered = rating[(rating[\"Place_Id\"].isin(filter_place)) & \n",
        "                       (rating[\"User_Id\"].isin(filter_place))]\n",
        "del filter_place,filter_user,min_place_rating,min_user_rating\n",
        "print('Shape User-Ratings unfiltered:\\t{}'.format(rating.shape))\n",
        "print('Shape User-Ratings filtered:\\t{}'.format(data_filtered.shape))"
      ]
    },
    {
      "cell_type": "markdown",
      "source": [
        "Membagi data set menjadi train dan test"
      ],
      "metadata": {
        "id": "CgAIxb94gjPm"
      }
    },
    {
      "cell_type": "code",
      "execution_count": 9,
      "metadata": {
        "id": "bn09UsamB1Yu"
      },
      "outputs": [],
      "source": [
        "data_filtered = data_filtered.sample(frac=1).reset_index(drop=True)\n",
        "\n",
        "n =500\n",
        "\n",
        "df_train = data_filtered[:-n]\n",
        "df_test = data_filtered[-n:]"
      ]
    },
    {
      "cell_type": "markdown",
      "source": [
        "#Deep Learning With Keras\n",
        "With its embedding layers this is similar to the matrix factorization approach above, but instead of using a fixed dot-product as recommendation we will utilize some dense layers so the network can find better combinations."
      ],
      "metadata": {
        "id": "AAtTULCkdHgn"
      }
    },
    {
      "cell_type": "code",
      "source": [
        "# Mapping user dan place id\n",
        "user_mapping = {id:i for i, id in enumerate(data_filtered['User_Id'].unique())}\n",
        "place_mapping = {id:i for i, id in enumerate(data_filtered['Place_Id'].unique())}\n",
        "\n",
        "\n",
        "# Membagi data berdasarkan mapping\n",
        "train_user = df_train['User_Id'].map(user_mapping)\n",
        "train_place = df_train['Place_Id'].map(place_mapping)\n",
        "\n",
        "test_user = df_test['User_Id'].map(user_mapping)\n",
        "test_place = df_test['Place_Id'].map(place_mapping)\n",
        "\n",
        "# Atur Variabel\n",
        "user_embedding_size = 20\n",
        "place_embedding_size = 10\n",
        "\n",
        "# Masukin parameter\n",
        "users = len(user_mapping)\n",
        "places = len(place_mapping)\n",
        "embedding_size = 10\n"
      ],
      "metadata": {
        "id": "Lx56pp6FbVDi"
      },
      "execution_count": 10,
      "outputs": []
    },
    {
      "cell_type": "markdown",
      "source": [
        "Mulai Pembuatan Model"
      ],
      "metadata": {
        "id": "U8VW6cvRlhJ_"
      }
    },
    {
      "cell_type": "code",
      "source": [
        "\n",
        "\n",
        "#Mengatur input layer\n",
        "user_id_input = Input(shape=[1], name='user')\n",
        "place_id_input = Input(shape=[1], name='place')\n",
        "\n",
        "# Membuat Embedding layer\n",
        "user_embedding = Embedding(output_dim=user_embedding_size, \n",
        "                           input_dim=users,\n",
        "                           input_length=1, \n",
        "                           name='user_embedding')(user_id_input)\n",
        "place_embedding = Embedding(output_dim=place_embedding_size, \n",
        "                            input_dim=places,\n",
        "                            input_length=1, \n",
        "                            name='item_embedding')(place_id_input)\n",
        "\n",
        "# Reshape embedding layers yang sudah dibuat\n",
        "user_vector = Reshape([user_embedding_size])(user_embedding)\n",
        "place_vector = Reshape([place_embedding_size])(place_embedding)\n",
        "\n",
        "# Di concate supaya bisa jadi 1 list\n",
        "concat = Concatenate()([user_vector, place_vector])\n",
        "\n",
        "# masukin dense layer\n",
        "fc1 = Dense(64, activation='relu')(concat)\n",
        "y = Dense(1)(fc1)\n",
        "\n"
      ],
      "metadata": {
        "id": "2ZfkAY5Tld76"
      },
      "execution_count": 11,
      "outputs": []
    },
    {
      "cell_type": "code",
      "source": [
        "# Setup model yang sudah dibuat\n",
        "model = Model(inputs=[user_id_input, place_id_input], outputs=y)\n",
        "model.compile(\n",
        "    loss = \"mse\",optimizer =\"adam\",metrics=[tf.keras.metrics.RootMeanSquaredError()]\n",
        ")\n",
        "\n",
        "# Hasil fit model\n",
        "history = model.fit([train_user, train_place],\n",
        "          df_train['Place_Rating'],\n",
        "          batch_size=256, \n",
        "          epochs=100,\n",
        "          validation_split=0.1,\n",
        "          shuffle=True)\n"
      ],
      "metadata": {
        "colab": {
          "base_uri": "https://localhost:8080/"
        },
        "id": "ZD3lJ7lsl5lO",
        "outputId": "1f79b601-7728-47e0-bc97-667ad34db279"
      },
      "execution_count": 12,
      "outputs": [
        {
          "output_type": "stream",
          "name": "stdout",
          "text": [
            "Epoch 1/100\n",
            "7/7 [==============================] - 1s 45ms/step - loss: 18.0187 - root_mean_squared_error: 4.2448 - val_loss: 17.4478 - val_root_mean_squared_error: 4.1771\n",
            "Epoch 2/100\n",
            "7/7 [==============================] - 0s 9ms/step - loss: 17.4685 - root_mean_squared_error: 4.1795 - val_loss: 16.8802 - val_root_mean_squared_error: 4.1086\n",
            "Epoch 3/100\n",
            "7/7 [==============================] - 0s 8ms/step - loss: 16.8610 - root_mean_squared_error: 4.1062 - val_loss: 16.2001 - val_root_mean_squared_error: 4.0249\n",
            "Epoch 4/100\n",
            "7/7 [==============================] - 0s 9ms/step - loss: 16.1106 - root_mean_squared_error: 4.0138 - val_loss: 15.3345 - val_root_mean_squared_error: 3.9159\n",
            "Epoch 5/100\n",
            "7/7 [==============================] - 0s 10ms/step - loss: 15.1591 - root_mean_squared_error: 3.8935 - val_loss: 14.2377 - val_root_mean_squared_error: 3.7733\n",
            "Epoch 6/100\n",
            "7/7 [==============================] - 0s 10ms/step - loss: 13.9610 - root_mean_squared_error: 3.7364 - val_loss: 12.8917 - val_root_mean_squared_error: 3.5905\n",
            "Epoch 7/100\n",
            "7/7 [==============================] - 0s 8ms/step - loss: 12.5142 - root_mean_squared_error: 3.5375 - val_loss: 11.2889 - val_root_mean_squared_error: 3.3599\n",
            "Epoch 8/100\n",
            "7/7 [==============================] - 0s 8ms/step - loss: 10.8179 - root_mean_squared_error: 3.2891 - val_loss: 9.4622 - val_root_mean_squared_error: 3.0761\n",
            "Epoch 9/100\n",
            "7/7 [==============================] - 0s 7ms/step - loss: 8.9155 - root_mean_squared_error: 2.9859 - val_loss: 7.4884 - val_root_mean_squared_error: 2.7365\n",
            "Epoch 10/100\n",
            "7/7 [==============================] - 0s 7ms/step - loss: 6.9281 - root_mean_squared_error: 2.6321 - val_loss: 5.5035 - val_root_mean_squared_error: 2.3460\n",
            "Epoch 11/100\n",
            "7/7 [==============================] - 0s 8ms/step - loss: 4.9834 - root_mean_squared_error: 2.2324 - val_loss: 3.6999 - val_root_mean_squared_error: 1.9235\n",
            "Epoch 12/100\n",
            "7/7 [==============================] - 0s 8ms/step - loss: 3.2983 - root_mean_squared_error: 1.8161 - val_loss: 2.2431 - val_root_mean_squared_error: 1.4977\n",
            "Epoch 13/100\n",
            "7/7 [==============================] - 0s 7ms/step - loss: 2.0370 - root_mean_squared_error: 1.4272 - val_loss: 1.2992 - val_root_mean_squared_error: 1.1398\n",
            "Epoch 14/100\n",
            "7/7 [==============================] - 0s 8ms/step - loss: 1.3143 - root_mean_squared_error: 1.1464 - val_loss: 0.8737 - val_root_mean_squared_error: 0.9347\n",
            "Epoch 15/100\n",
            "7/7 [==============================] - 0s 9ms/step - loss: 1.0570 - root_mean_squared_error: 1.0281 - val_loss: 0.7804 - val_root_mean_squared_error: 0.8834\n",
            "Epoch 16/100\n",
            "7/7 [==============================] - 0s 8ms/step - loss: 1.0151 - root_mean_squared_error: 1.0075 - val_loss: 0.7832 - val_root_mean_squared_error: 0.8850\n",
            "Epoch 17/100\n",
            "7/7 [==============================] - 0s 8ms/step - loss: 1.0060 - root_mean_squared_error: 1.0030 - val_loss: 0.7691 - val_root_mean_squared_error: 0.8770\n",
            "Epoch 18/100\n",
            "7/7 [==============================] - 0s 8ms/step - loss: 0.9691 - root_mean_squared_error: 0.9844 - val_loss: 0.7506 - val_root_mean_squared_error: 0.8664\n",
            "Epoch 19/100\n",
            "7/7 [==============================] - 0s 7ms/step - loss: 0.9330 - root_mean_squared_error: 0.9659 - val_loss: 0.7415 - val_root_mean_squared_error: 0.8611\n",
            "Epoch 20/100\n",
            "7/7 [==============================] - 0s 9ms/step - loss: 0.9087 - root_mean_squared_error: 0.9533 - val_loss: 0.7411 - val_root_mean_squared_error: 0.8609\n",
            "Epoch 21/100\n",
            "7/7 [==============================] - 0s 8ms/step - loss: 0.8924 - root_mean_squared_error: 0.9446 - val_loss: 0.7402 - val_root_mean_squared_error: 0.8603\n",
            "Epoch 22/100\n",
            "7/7 [==============================] - 0s 8ms/step - loss: 0.8812 - root_mean_squared_error: 0.9387 - val_loss: 0.7433 - val_root_mean_squared_error: 0.8622\n",
            "Epoch 23/100\n",
            "7/7 [==============================] - 0s 8ms/step - loss: 0.8712 - root_mean_squared_error: 0.9334 - val_loss: 0.7411 - val_root_mean_squared_error: 0.8609\n",
            "Epoch 24/100\n",
            "7/7 [==============================] - 0s 9ms/step - loss: 0.8630 - root_mean_squared_error: 0.9290 - val_loss: 0.7449 - val_root_mean_squared_error: 0.8631\n",
            "Epoch 25/100\n",
            "7/7 [==============================] - 0s 8ms/step - loss: 0.8560 - root_mean_squared_error: 0.9252 - val_loss: 0.7455 - val_root_mean_squared_error: 0.8634\n",
            "Epoch 26/100\n",
            "7/7 [==============================] - 0s 9ms/step - loss: 0.8498 - root_mean_squared_error: 0.9218 - val_loss: 0.7478 - val_root_mean_squared_error: 0.8648\n",
            "Epoch 27/100\n",
            "7/7 [==============================] - 0s 9ms/step - loss: 0.8460 - root_mean_squared_error: 0.9198 - val_loss: 0.7492 - val_root_mean_squared_error: 0.8656\n",
            "Epoch 28/100\n",
            "7/7 [==============================] - 0s 9ms/step - loss: 0.8414 - root_mean_squared_error: 0.9173 - val_loss: 0.7518 - val_root_mean_squared_error: 0.8670\n",
            "Epoch 29/100\n",
            "7/7 [==============================] - 0s 8ms/step - loss: 0.8374 - root_mean_squared_error: 0.9151 - val_loss: 0.7531 - val_root_mean_squared_error: 0.8678\n",
            "Epoch 30/100\n",
            "7/7 [==============================] - 0s 8ms/step - loss: 0.8349 - root_mean_squared_error: 0.9137 - val_loss: 0.7513 - val_root_mean_squared_error: 0.8668\n",
            "Epoch 31/100\n",
            "7/7 [==============================] - 0s 10ms/step - loss: 0.8332 - root_mean_squared_error: 0.9128 - val_loss: 0.7519 - val_root_mean_squared_error: 0.8671\n",
            "Epoch 32/100\n",
            "7/7 [==============================] - 0s 9ms/step - loss: 0.8316 - root_mean_squared_error: 0.9119 - val_loss: 0.7511 - val_root_mean_squared_error: 0.8667\n",
            "Epoch 33/100\n",
            "7/7 [==============================] - 0s 9ms/step - loss: 0.8300 - root_mean_squared_error: 0.9110 - val_loss: 0.7517 - val_root_mean_squared_error: 0.8670\n",
            "Epoch 34/100\n",
            "7/7 [==============================] - 0s 9ms/step - loss: 0.8297 - root_mean_squared_error: 0.9109 - val_loss: 0.7523 - val_root_mean_squared_error: 0.8674\n",
            "Epoch 35/100\n",
            "7/7 [==============================] - 0s 9ms/step - loss: 0.8295 - root_mean_squared_error: 0.9107 - val_loss: 0.7523 - val_root_mean_squared_error: 0.8673\n",
            "Epoch 36/100\n",
            "7/7 [==============================] - 0s 9ms/step - loss: 0.8282 - root_mean_squared_error: 0.9101 - val_loss: 0.7520 - val_root_mean_squared_error: 0.8672\n",
            "Epoch 37/100\n",
            "7/7 [==============================] - 0s 10ms/step - loss: 0.8269 - root_mean_squared_error: 0.9094 - val_loss: 0.7495 - val_root_mean_squared_error: 0.8657\n",
            "Epoch 38/100\n",
            "7/7 [==============================] - 0s 13ms/step - loss: 0.8268 - root_mean_squared_error: 0.9093 - val_loss: 0.7519 - val_root_mean_squared_error: 0.8671\n",
            "Epoch 39/100\n",
            "7/7 [==============================] - 0s 9ms/step - loss: 0.8266 - root_mean_squared_error: 0.9092 - val_loss: 0.7569 - val_root_mean_squared_error: 0.8700\n",
            "Epoch 40/100\n",
            "7/7 [==============================] - 0s 9ms/step - loss: 0.8256 - root_mean_squared_error: 0.9087 - val_loss: 0.7597 - val_root_mean_squared_error: 0.8716\n",
            "Epoch 41/100\n",
            "7/7 [==============================] - 0s 10ms/step - loss: 0.8256 - root_mean_squared_error: 0.9086 - val_loss: 0.7574 - val_root_mean_squared_error: 0.8703\n",
            "Epoch 42/100\n",
            "7/7 [==============================] - 0s 9ms/step - loss: 0.8254 - root_mean_squared_error: 0.9085 - val_loss: 0.7553 - val_root_mean_squared_error: 0.8691\n",
            "Epoch 43/100\n",
            "7/7 [==============================] - 0s 9ms/step - loss: 0.8244 - root_mean_squared_error: 0.9080 - val_loss: 0.7555 - val_root_mean_squared_error: 0.8692\n",
            "Epoch 44/100\n",
            "7/7 [==============================] - 0s 8ms/step - loss: 0.8250 - root_mean_squared_error: 0.9083 - val_loss: 0.7591 - val_root_mean_squared_error: 0.8713\n",
            "Epoch 45/100\n",
            "7/7 [==============================] - 0s 30ms/step - loss: 0.8259 - root_mean_squared_error: 0.9088 - val_loss: 0.7583 - val_root_mean_squared_error: 0.8708\n",
            "Epoch 46/100\n",
            "7/7 [==============================] - 0s 40ms/step - loss: 0.8256 - root_mean_squared_error: 0.9086 - val_loss: 0.7613 - val_root_mean_squared_error: 0.8725\n",
            "Epoch 47/100\n",
            "7/7 [==============================] - 0s 39ms/step - loss: 0.8257 - root_mean_squared_error: 0.9087 - val_loss: 0.7634 - val_root_mean_squared_error: 0.8737\n",
            "Epoch 48/100\n",
            "7/7 [==============================] - 0s 24ms/step - loss: 0.8261 - root_mean_squared_error: 0.9089 - val_loss: 0.7653 - val_root_mean_squared_error: 0.8748\n",
            "Epoch 49/100\n",
            "7/7 [==============================] - 0s 23ms/step - loss: 0.8269 - root_mean_squared_error: 0.9093 - val_loss: 0.7647 - val_root_mean_squared_error: 0.8745\n",
            "Epoch 50/100\n",
            "7/7 [==============================] - 0s 17ms/step - loss: 0.8263 - root_mean_squared_error: 0.9090 - val_loss: 0.7672 - val_root_mean_squared_error: 0.8759\n",
            "Epoch 51/100\n",
            "7/7 [==============================] - 0s 15ms/step - loss: 0.8260 - root_mean_squared_error: 0.9088 - val_loss: 0.7705 - val_root_mean_squared_error: 0.8778\n",
            "Epoch 52/100\n",
            "7/7 [==============================] - 0s 23ms/step - loss: 0.8254 - root_mean_squared_error: 0.9085 - val_loss: 0.7681 - val_root_mean_squared_error: 0.8764\n",
            "Epoch 53/100\n",
            "7/7 [==============================] - 0s 11ms/step - loss: 0.8260 - root_mean_squared_error: 0.9088 - val_loss: 0.7676 - val_root_mean_squared_error: 0.8761\n",
            "Epoch 54/100\n",
            "7/7 [==============================] - 0s 9ms/step - loss: 0.8251 - root_mean_squared_error: 0.9084 - val_loss: 0.7668 - val_root_mean_squared_error: 0.8757\n",
            "Epoch 55/100\n",
            "7/7 [==============================] - 0s 9ms/step - loss: 0.8252 - root_mean_squared_error: 0.9084 - val_loss: 0.7684 - val_root_mean_squared_error: 0.8766\n",
            "Epoch 56/100\n",
            "7/7 [==============================] - 0s 9ms/step - loss: 0.8256 - root_mean_squared_error: 0.9086 - val_loss: 0.7721 - val_root_mean_squared_error: 0.8787\n",
            "Epoch 57/100\n",
            "7/7 [==============================] - 0s 8ms/step - loss: 0.8257 - root_mean_squared_error: 0.9087 - val_loss: 0.7721 - val_root_mean_squared_error: 0.8787\n",
            "Epoch 58/100\n",
            "7/7 [==============================] - 0s 10ms/step - loss: 0.8252 - root_mean_squared_error: 0.9084 - val_loss: 0.7672 - val_root_mean_squared_error: 0.8759\n",
            "Epoch 59/100\n",
            "7/7 [==============================] - 0s 8ms/step - loss: 0.8251 - root_mean_squared_error: 0.9084 - val_loss: 0.7672 - val_root_mean_squared_error: 0.8759\n",
            "Epoch 60/100\n",
            "7/7 [==============================] - 0s 9ms/step - loss: 0.8249 - root_mean_squared_error: 0.9083 - val_loss: 0.7718 - val_root_mean_squared_error: 0.8785\n",
            "Epoch 61/100\n",
            "7/7 [==============================] - 0s 9ms/step - loss: 0.8250 - root_mean_squared_error: 0.9083 - val_loss: 0.7762 - val_root_mean_squared_error: 0.8810\n",
            "Epoch 62/100\n",
            "7/7 [==============================] - 0s 9ms/step - loss: 0.8251 - root_mean_squared_error: 0.9084 - val_loss: 0.7805 - val_root_mean_squared_error: 0.8835\n",
            "Epoch 63/100\n",
            "7/7 [==============================] - 0s 9ms/step - loss: 0.8256 - root_mean_squared_error: 0.9086 - val_loss: 0.7812 - val_root_mean_squared_error: 0.8839\n",
            "Epoch 64/100\n",
            "7/7 [==============================] - 0s 9ms/step - loss: 0.8256 - root_mean_squared_error: 0.9086 - val_loss: 0.7805 - val_root_mean_squared_error: 0.8835\n",
            "Epoch 65/100\n",
            "7/7 [==============================] - 0s 9ms/step - loss: 0.8250 - root_mean_squared_error: 0.9083 - val_loss: 0.7796 - val_root_mean_squared_error: 0.8830\n",
            "Epoch 66/100\n",
            "7/7 [==============================] - 0s 9ms/step - loss: 0.8245 - root_mean_squared_error: 0.9080 - val_loss: 0.7764 - val_root_mean_squared_error: 0.8811\n",
            "Epoch 67/100\n",
            "7/7 [==============================] - 0s 9ms/step - loss: 0.8246 - root_mean_squared_error: 0.9081 - val_loss: 0.7700 - val_root_mean_squared_error: 0.8775\n",
            "Epoch 68/100\n",
            "7/7 [==============================] - 0s 9ms/step - loss: 0.8242 - root_mean_squared_error: 0.9079 - val_loss: 0.7683 - val_root_mean_squared_error: 0.8765\n",
            "Epoch 69/100\n",
            "7/7 [==============================] - 0s 8ms/step - loss: 0.8238 - root_mean_squared_error: 0.9077 - val_loss: 0.7708 - val_root_mean_squared_error: 0.8780\n",
            "Epoch 70/100\n",
            "7/7 [==============================] - 0s 9ms/step - loss: 0.8237 - root_mean_squared_error: 0.9076 - val_loss: 0.7719 - val_root_mean_squared_error: 0.8786\n",
            "Epoch 71/100\n",
            "7/7 [==============================] - 0s 9ms/step - loss: 0.8243 - root_mean_squared_error: 0.9079 - val_loss: 0.7680 - val_root_mean_squared_error: 0.8763\n",
            "Epoch 72/100\n",
            "7/7 [==============================] - 0s 8ms/step - loss: 0.8242 - root_mean_squared_error: 0.9078 - val_loss: 0.7630 - val_root_mean_squared_error: 0.8735\n",
            "Epoch 73/100\n",
            "7/7 [==============================] - 0s 9ms/step - loss: 0.8246 - root_mean_squared_error: 0.9081 - val_loss: 0.7619 - val_root_mean_squared_error: 0.8729\n",
            "Epoch 74/100\n",
            "7/7 [==============================] - 0s 10ms/step - loss: 0.8242 - root_mean_squared_error: 0.9079 - val_loss: 0.7601 - val_root_mean_squared_error: 0.8718\n",
            "Epoch 75/100\n",
            "7/7 [==============================] - 0s 10ms/step - loss: 0.8242 - root_mean_squared_error: 0.9079 - val_loss: 0.7615 - val_root_mean_squared_error: 0.8727\n",
            "Epoch 76/100\n",
            "7/7 [==============================] - 0s 10ms/step - loss: 0.8246 - root_mean_squared_error: 0.9081 - val_loss: 0.7645 - val_root_mean_squared_error: 0.8744\n",
            "Epoch 77/100\n",
            "7/7 [==============================] - 0s 9ms/step - loss: 0.8243 - root_mean_squared_error: 0.9079 - val_loss: 0.7629 - val_root_mean_squared_error: 0.8735\n",
            "Epoch 78/100\n",
            "7/7 [==============================] - 0s 9ms/step - loss: 0.8241 - root_mean_squared_error: 0.9078 - val_loss: 0.7617 - val_root_mean_squared_error: 0.8728\n",
            "Epoch 79/100\n",
            "7/7 [==============================] - 0s 9ms/step - loss: 0.8245 - root_mean_squared_error: 0.9080 - val_loss: 0.7625 - val_root_mean_squared_error: 0.8732\n",
            "Epoch 80/100\n",
            "7/7 [==============================] - 0s 8ms/step - loss: 0.8236 - root_mean_squared_error: 0.9075 - val_loss: 0.7698 - val_root_mean_squared_error: 0.8774\n",
            "Epoch 81/100\n",
            "7/7 [==============================] - 0s 10ms/step - loss: 0.8244 - root_mean_squared_error: 0.9079 - val_loss: 0.7737 - val_root_mean_squared_error: 0.8796\n",
            "Epoch 82/100\n",
            "7/7 [==============================] - 0s 8ms/step - loss: 0.8249 - root_mean_squared_error: 0.9082 - val_loss: 0.7762 - val_root_mean_squared_error: 0.8810\n",
            "Epoch 83/100\n",
            "7/7 [==============================] - 0s 9ms/step - loss: 0.8250 - root_mean_squared_error: 0.9083 - val_loss: 0.7784 - val_root_mean_squared_error: 0.8823\n",
            "Epoch 84/100\n",
            "7/7 [==============================] - 0s 7ms/step - loss: 0.8252 - root_mean_squared_error: 0.9084 - val_loss: 0.7780 - val_root_mean_squared_error: 0.8820\n",
            "Epoch 85/100\n",
            "7/7 [==============================] - 0s 8ms/step - loss: 0.8252 - root_mean_squared_error: 0.9084 - val_loss: 0.7738 - val_root_mean_squared_error: 0.8797\n",
            "Epoch 86/100\n",
            "7/7 [==============================] - 0s 7ms/step - loss: 0.8252 - root_mean_squared_error: 0.9084 - val_loss: 0.7696 - val_root_mean_squared_error: 0.8773\n",
            "Epoch 87/100\n",
            "7/7 [==============================] - 0s 7ms/step - loss: 0.8249 - root_mean_squared_error: 0.9083 - val_loss: 0.7663 - val_root_mean_squared_error: 0.8754\n",
            "Epoch 88/100\n",
            "7/7 [==============================] - 0s 7ms/step - loss: 0.8247 - root_mean_squared_error: 0.9081 - val_loss: 0.7642 - val_root_mean_squared_error: 0.8742\n",
            "Epoch 89/100\n",
            "7/7 [==============================] - 0s 7ms/step - loss: 0.8245 - root_mean_squared_error: 0.9080 - val_loss: 0.7636 - val_root_mean_squared_error: 0.8738\n",
            "Epoch 90/100\n",
            "7/7 [==============================] - 0s 8ms/step - loss: 0.8252 - root_mean_squared_error: 0.9084 - val_loss: 0.7682 - val_root_mean_squared_error: 0.8765\n",
            "Epoch 91/100\n",
            "7/7 [==============================] - 0s 7ms/step - loss: 0.8253 - root_mean_squared_error: 0.9085 - val_loss: 0.7659 - val_root_mean_squared_error: 0.8751\n",
            "Epoch 92/100\n",
            "7/7 [==============================] - 0s 8ms/step - loss: 0.8257 - root_mean_squared_error: 0.9087 - val_loss: 0.7649 - val_root_mean_squared_error: 0.8746\n",
            "Epoch 93/100\n",
            "7/7 [==============================] - 0s 7ms/step - loss: 0.8261 - root_mean_squared_error: 0.9089 - val_loss: 0.7650 - val_root_mean_squared_error: 0.8746\n",
            "Epoch 94/100\n",
            "7/7 [==============================] - 0s 10ms/step - loss: 0.8255 - root_mean_squared_error: 0.9085 - val_loss: 0.7631 - val_root_mean_squared_error: 0.8735\n",
            "Epoch 95/100\n",
            "7/7 [==============================] - 0s 10ms/step - loss: 0.8261 - root_mean_squared_error: 0.9089 - val_loss: 0.7639 - val_root_mean_squared_error: 0.8740\n",
            "Epoch 96/100\n",
            "7/7 [==============================] - 0s 7ms/step - loss: 0.8255 - root_mean_squared_error: 0.9086 - val_loss: 0.7676 - val_root_mean_squared_error: 0.8761\n",
            "Epoch 97/100\n",
            "7/7 [==============================] - 0s 7ms/step - loss: 0.8258 - root_mean_squared_error: 0.9087 - val_loss: 0.7741 - val_root_mean_squared_error: 0.8798\n",
            "Epoch 98/100\n",
            "7/7 [==============================] - 0s 7ms/step - loss: 0.8251 - root_mean_squared_error: 0.9084 - val_loss: 0.7699 - val_root_mean_squared_error: 0.8774\n",
            "Epoch 99/100\n",
            "7/7 [==============================] - 0s 10ms/step - loss: 0.8244 - root_mean_squared_error: 0.9080 - val_loss: 0.7688 - val_root_mean_squared_error: 0.8768\n",
            "Epoch 100/100\n",
            "7/7 [==============================] - 0s 10ms/step - loss: 0.8250 - root_mean_squared_error: 0.9083 - val_loss: 0.7693 - val_root_mean_squared_error: 0.8771\n"
          ]
        }
      ]
    },
    {
      "cell_type": "markdown",
      "source": [
        "Mencoba Model "
      ],
      "metadata": {
        "id": "jgU97SF3mFMP"
      }
    },
    {
      "cell_type": "code",
      "source": [
        "# Test model\n",
        "y_pred = model.predict([test_user, test_place])\n",
        "y_true = df_test['Place_Rating'].values"
      ],
      "metadata": {
        "id": "ojn84vMSmATs"
      },
      "execution_count": 13,
      "outputs": []
    },
    {
      "cell_type": "code",
      "source": [
        "#  Evaluasi dengan RMSE\n",
        "rmse = np.sqrt(mean_squared_error(y_pred=y_pred, y_true=y_true))\n",
        "print('\\n\\nTesting Result With Keras Deep Learning: {:.4f} RMSE'.format(rmse))"
      ],
      "metadata": {
        "colab": {
          "base_uri": "https://localhost:8080/"
        },
        "id": "bV_tbfBAmhYS",
        "outputId": "ad4b86f6-61ab-4e5c-f99b-5b2e1ec78ad0"
      },
      "execution_count": 14,
      "outputs": [
        {
          "output_type": "stream",
          "name": "stdout",
          "text": [
            "\n",
            "\n",
            "Testing Result With Keras Deep Learning: 1.0741 RMSE\n"
          ]
        }
      ]
    },
    {
      "cell_type": "code",
      "source": [
        "# Menampilkan plot loss dan validation\n",
        "\n",
        "plt.plot(history.history['root_mean_squared_error'])\n",
        "plt.plot(history.history['val_root_mean_squared_error'])\n",
        "plt.title('model_metrics')\n",
        "plt.ylabel('root_mean_squared_error')\n",
        "plt.xlabel('epoch')\n",
        "plt.ylim(ymin=0, ymax=4.2)\n",
        "plt.legend(['train', 'test'], loc='center left')\n",
        "plt.show()"
      ],
      "metadata": {
        "colab": {
          "base_uri": "https://localhost:8080/",
          "height": 295
        },
        "id": "4ycPvXqTmenX",
        "outputId": "60c31dba-b0cc-4d5d-e811-3115066c8787"
      },
      "execution_count": 15,
      "outputs": [
        {
          "output_type": "display_data",
          "data": {
            "text/plain": [
              "<Figure size 432x288 with 1 Axes>"
            ],
            "image/png": "[encoded data removed]"
          },
          "metadata": {
            "needs_background": "light"
          }
        }
      ]
    },
    {
      "cell_type": "markdown",
      "source": [
        "# Mulai Testing dan Predicting "
      ],
      "metadata": {
        "id": "r7MMvw6mw03e"
      }
    },
    {
      "cell_type": "code",
      "source": [
        "# Menyiapkan dataframe\n",
        "place_df = place[['Place_Id','Place_Name','Category','Rating','Weekday Price']]\n",
        "place_df.columns = ['id','place_name','category','rating','price']\n",
        "df = rating.copy()\n"
      ],
      "metadata": {
        "id": "CERVflAXbwfj"
      },
      "execution_count": 16,
      "outputs": []
    },
    {
      "cell_type": "code",
      "source": [
        "user_id = df.User_Id.sample(1).iloc[0]\n",
        "place_visited_by_user = df[df.User_Id == user_id]"
      ],
      "metadata": {
        "id": "IxQfL9Fpcp5T"
      },
      "execution_count": 17,
      "outputs": []
    },
    {
      "cell_type": "code",
      "source": [
        "def dict_encoder(col, data=df):\n",
        "\n",
        "  # Mengubah kolom suatu dataframe menjadi list tanpa nilai yang sama\n",
        "  unique_val = data[col].unique().tolist()\n",
        "\n",
        "  # Melakukan encoding value kolom suatu dataframe ke angka\n",
        "  val_to_val_encoded = {x: i for i, x in enumerate(unique_val)}\n",
        "\n",
        "  # Melakukan proses encoding angka ke value dari kolom suatu dataframe\n",
        "  val_encoded_to_val = {i: x for i, x in enumerate(unique_val)}\n",
        "  return val_to_val_encoded, val_encoded_to_val"
      ],
      "metadata": {
        "id": "x98BO5xzdEjC"
      },
      "execution_count": 18,
      "outputs": []
    },
    {
      "cell_type": "code",
      "source": [
        "# Encoding Place_Id\n",
        "place_to_place_encoded, place_encoded_to_place = dict_encoder('Place_Id')\n",
        "\n",
        "# Mapping Place_Id ke dataframe place\n",
        "df['place'] = df['Place_Id'].map(place_to_place_encoded)"
      ],
      "metadata": {
        "id": "nC0RfVZZdK45"
      },
      "execution_count": 19,
      "outputs": []
    },
    {
      "cell_type": "code",
      "source": [
        "# Encoding User_Id\n",
        "user_to_user_encoded, user_encoded_to_user = dict_encoder('User_Id')\n",
        "\n",
        "# Mapping User_Id ke dataframe\n",
        "df['user'] = df['User_Id'].map(user_to_user_encoded)"
      ],
      "metadata": {
        "id": "xjerZAoedWHq"
      },
      "execution_count": 20,
      "outputs": []
    },
    {
      "cell_type": "code",
      "source": [
        "# Mendapatkan jumlah user dan place\n",
        "num_users, num_place = len(user_to_user_encoded), len(place_to_place_encoded)\n",
        " \n",
        "# Mengubah rating menjadi nilai float\n",
        "df['Place_Rating'] = df['Place_Rating'].values.astype(np.float32)\n",
        " \n",
        "# Mendapatkan nilai minimum dan maksimum rating\n",
        "min_rating, max_rating = min(df['Place_Rating']), max(df['Place_Rating'])\n",
        " \n",
        "print(f'Number of User: {num_users}, Number of Place: {num_place}, Min Rating: {min_rating}, Max Rating: {max_rating}')"
      ],
      "metadata": {
        "colab": {
          "base_uri": "https://localhost:8080/"
        },
        "id": "Wj4y1oT7dRj6",
        "outputId": "e574d4ff-17b8-42e6-bc34-87c14b7c7c0a"
      },
      "execution_count": 21,
      "outputs": [
        {
          "output_type": "stream",
          "name": "stdout",
          "text": [
            "Number of User: 100, Number of Place: 75, Min Rating: 1.0, Max Rating: 5.0\n"
          ]
        }
      ]
    },
    {
      "cell_type": "code",
      "source": [
        "# Membuat data lokasi yang belum dikunjungi user\n",
        "place_not_visited = place_df[~place_df['id'].isin(place_visited_by_user.Place_Id.values)]['id'] \n",
        "place_not_visited = list(\n",
        "    set(place_not_visited)\n",
        "    .intersection(set(place_to_place_encoded.keys()))\n",
        ")\n",
        " \n",
        "place_not_visited = [[place_to_place_encoded.get(x)] for x in place_not_visited]\n",
        "user_encoder = user_to_user_encoded.get(user_id)\n",
        "user_place_array = np.hstack(\n",
        "    ([[user_encoder]] * len(place_not_visited), place_not_visited)\n",
        ")"
      ],
      "metadata": {
        "id": "zhXz8IYWctJM"
      },
      "execution_count": 22,
      "outputs": []
    },
    {
      "cell_type": "code",
      "source": [
        "class DeepRecommender(tf.keras.Model):\n",
        " \n",
        "  # Insialisasi fungsi\n",
        "  def __init__(self, num_users, num_places, embedding_size, **kwargs):\n",
        "    super(DeepRecommender, self).__init__(**kwargs)\n",
        "    self.num_users = num_users\n",
        "    self.num_places = num_places\n",
        "    self.embedding_size = embedding_size\n",
        "    self.user_embedding = Embedding( # layer embedding user\n",
        "        num_users,\n",
        "        embedding_size,\n",
        "        embeddings_initializer = 'he_normal',\n",
        "        embeddings_regularizer = keras.regularizers.l2(1e-6)\n",
        "    )\n",
        "    self.user_bias = Embedding(num_users, 1) # layer embedding user bias\n",
        "    self.places_embedding = Embedding( # layer embeddings places\n",
        "        num_places,\n",
        "        embedding_size,\n",
        "        embeddings_initializer = 'he_normal',\n",
        "        embeddings_regularizer = keras.regularizers.l2(1e-6)\n",
        "    )\n",
        "    self.places_bias = Embedding(num_places, 1) # layer embedding places bias\n",
        "    self.dense1 = tf.keras.layers.Dense(64, activation=tf.nn.relu)\n",
        "    self.dense2 = tf.keras.layers.Dense(1)\n",
        " \n",
        "  def call(self, inputs):\n",
        "    user_vector = self.user_embedding(inputs[:,0]) # memanggil layer embedding 1\n",
        "    user_bias = self.user_bias(inputs[:, 0]) # memanggil layer embedding 2\n",
        "    places_vector = self.places_embedding(inputs[:, 1]) # memanggil layer embedding 3\n",
        "    places_bias = self.places_bias(inputs[:, 1]) # memanggil layer embedding 4\n",
        "    dot_user_places = tf.tensordot(user_vector, places_vector, 2) \n",
        "    x = dot_user_places + user_bias + places_bias\n",
        "    y = self.dense1(x)\n",
        "    return self.dense2(y)\n"
      ],
      "metadata": {
        "id": "bFKToG-B_qOH"
      },
      "execution_count": 23,
      "outputs": []
    },
    {
      "cell_type": "code",
      "source": [
        "model = DeepRecommender(num_users, num_place, 50) # inisialisasi model\n",
        " \n",
        "# model compile\n",
        "model.compile(\n",
        "    loss = tf.keras.losses.BinaryCrossentropy(),\n",
        "    optimizer = keras.optimizers.Adam(learning_rate=0.0004),\n",
        "    metrics=[tf.keras.metrics.RootMeanSquaredError()]\n",
        ")"
      ],
      "metadata": {
        "id": "geV15xSXHaZK"
      },
      "execution_count": 24,
      "outputs": []
    },
    {
      "cell_type": "code",
      "source": [
        "# Mengambil top rekomendasi\n",
        "ratings = model.predict(user_place_array,50).flatten()\n",
        "top_ratings_indices = ratings.argsort()[:][::-1]\n",
        "recommended_place_ids = [\n",
        "    place_encoded_to_place.get(place_not_visited[x][0]) for x in top_ratings_indices\n",
        "]\n",
        "recommended_place_ids = list(recommended_place_ids)\n",
        "print(recommended_place_ids)\n"
      ],
      "metadata": {
        "colab": {
          "base_uri": "https://localhost:8080/"
        },
        "id": "9muRE6UgwkuV",
        "outputId": "d7f6e2ac-79f0-409f-8179-b15fc8be90c5"
      },
      "execution_count": 25,
      "outputs": [
        {
          "output_type": "stream",
          "name": "stdout",
          "text": [
            "[22, 55, 13, 29, 25, 11, 6, 31, 47, 7, 5, 28, 24, 67, 46, 16, 4, 73, 20, 53, 57, 70, 9, 17, 10, 61, 69, 52, 2, 54, 36, 68, 43, 58, 14, 12, 72, 66, 33, 50, 27, 64, 45, 34, 39]\n"
          ]
        }
      ]
    },
    {
      "cell_type": "code",
      "source": [
        "#Membuat Filter\n",
        "Place_Upto_100 = place_df[(place_df['price'] >= 100000)]\n",
        "Place_Upto_100 = list(Place_Upto_100[\"id\"])\n",
        "print(Place_Upto_100)"
      ],
      "metadata": {
        "colab": {
          "base_uri": "https://localhost:8080/"
        },
        "id": "kHMDXVEnzema",
        "outputId": "1db53728-dea2-4b75-f97d-9518d47fefdb"
      },
      "execution_count": 26,
      "outputs": [
        {
          "output_type": "stream",
          "name": "stdout",
          "text": [
            "[7, 10, 69, 70, 73]\n"
          ]
        }
      ]
    },
    {
      "cell_type": "code",
      "source": [
        "#Filtering place up to 100k\n",
        "recom_id_under_100 = [x for x in recommended_place_ids if x not in Place_Upto_100]\n",
        "print(recom_id_under_100 )"
      ],
      "metadata": {
        "colab": {
          "base_uri": "https://localhost:8080/"
        },
        "id": "IuOoAwFp1e-e",
        "outputId": "2aa1a059-57a8-4ca9-9957-867e75d59bbb"
      },
      "execution_count": 27,
      "outputs": [
        {
          "output_type": "stream",
          "name": "stdout",
          "text": [
            "[22, 55, 13, 29, 25, 11, 6, 31, 47, 5, 28, 24, 67, 46, 16, 4, 20, 53, 57, 9, 17, 61, 52, 2, 54, 36, 68, 43, 58, 14, 12, 72, 66, 33, 50, 27, 64, 45, 34, 39]\n"
          ]
        }
      ]
    },
    {
      "cell_type": "code",
      "source": [
        "print('Daftar rekomendasi untuk: {}'.format('User ' + str(user_id)))\n",
        "print('===' * 15,'\\n')\n",
        "print('----' * 15)\n",
        "print('Tempat dengan rating wisata paling tinggi dari user')\n",
        "print('----' * 15)\n",
        " \n",
        "top_place_user = (\n",
        "    place_visited_by_user.sort_values(\n",
        "        by = 'Place_Rating',\n",
        "        ascending=False\n",
        "    )\n",
        "    .head(5)\n",
        "    .Place_Id.values\n",
        ")\n",
        " \n",
        "place_df_rows = place_df[place_df['id'].isin(top_place_user)]\n",
        "for row in place_df_rows.itertuples():\n",
        "    print(row.place_name, ':', row.category)\n",
        "\n",
        "print('')\n",
        "print('----' * 15)\n",
        "print('Top 7 place recommendation')\n",
        "print('----' * 15)\n",
        " \n",
        "recommended_place = place_df[place_df['id'].isin(recom_id_under_100)]\n",
        "for row, i in zip(recommended_place.itertuples(), range(1,8)):\n",
        "    print(i,'.', row.place_name, '\\n    ', row.category, ',', 'Harga Tiket Masuk ', row.price, ',', 'Rating Wisata ', row.rating,'\\n')\n",
        "\n",
        "print('==='*15)"
      ],
      "metadata": {
        "colab": {
          "base_uri": "https://localhost:8080/"
        },
        "id": "r6gThKwVdoTq",
        "outputId": "8500e621-84d7-4196-e419-f8f3b31bcbe3"
      },
      "execution_count": 29,
      "outputs": [
        {
          "output_type": "stream",
          "name": "stdout",
          "text": [
            "Daftar rekomendasi untuk: User 20\n",
            "============================================= \n",
            "\n",
            "------------------------------------------------------------\n",
            "Tempat dengan rating wisata paling tinggi dari user\n",
            "------------------------------------------------------------\n",
            "Pantai Crystal Bay  : Pantai\n",
            "Pantai Diamond : Pantai\n",
            "Pura Tirta Empul : Religius\n",
            "Teras Sawah Tegalalang : Agrowisata\n",
            "Alas Harum Agro Tourism  : Agrowisata\n",
            "\n",
            "------------------------------------------------------------\n",
            "Top 7 place recommendation\n",
            "------------------------------------------------------------\n",
            "1 . Agung Bali \n",
            "     Belanja , Harga Tiket Masuk  0 , Rating Wisata  4.0 \n",
            "\n",
            "2 . Air Terjun Aling-Aling \n",
            "     Alam , Harga Tiket Masuk  20000 , Rating Wisata  4.5 \n",
            "\n",
            "3 . Air Terjun Tegenungan \n",
            "     Alam , Harga Tiket Masuk  20000 , Rating Wisata  4.0 \n",
            "\n",
            "4 . Air Terjun Tukad Cepung \n",
            "     Alam , Harga Tiket Masuk  15000 , Rating Wisata  4.5 \n",
            "\n",
            "5 . Handara Iconic Gate \n",
            "     Budaya , Harga Tiket Masuk  20000 , Rating Wisata  3.5 \n",
            "\n",
            "6 . Batik Koleksi Sari Amerta \n",
            "     Budaya , Harga Tiket Masuk  0 , Rating Wisata  3.5 \n",
            "\n",
            "7 . Big Garden Corner \n",
            "     Agrowisata , Harga Tiket Masuk  30000 , Rating Wisata  4.0 \n",
            "\n",
            "=============================================\n"
          ]
        }
      ]
    }
  ],
  "metadata": {
    "colab": {
      "name": "Deep Learning_Weekday_Under_100",
      "provenance": [],
      "collapsed_sections": [],
      "include_colab_link": true
    },
    "kernelspec": {
      "display_name": "Python 3",
      "name": "python3"
    },
    "language_info": {
      "name": "python"
    }
  },
  "nbformat": 4,
  "nbformat_minor": 0
}